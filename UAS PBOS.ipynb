{
 "cells": [
  {
   "cell_type": "code",
   "execution_count": 4,
   "id": "4dec6711",
   "metadata": {},
   "outputs": [
    {
     "name": "stdout",
     "output_type": "stream",
     "text": [
      "Panjang Persegi Panjang : 129\n",
      "Lebar Persegi Panjang : 40\n",
      "\n",
      "Hasil dari input tersebut :\n",
      "Hasil dari Keliling Persegi Panjang adalah :  338\n",
      "Hasil dari Luas Persegi Panjang adalah     :  5160\n"
     ]
    }
   ],
   "source": [
    "panjang = int(input(\"Panjang Persegi Panjang : \"))\n",
    "lebar = int(input(\"Lebar Persegi Panjang : \"))\n",
    "\n",
    "def hitung(panjang, lebar):\n",
    "    keliling = (2*panjang)+(2*lebar)\n",
    "    luas = (panjang*lebar)\n",
    "    \n",
    "    print(\"\\nHasil dari input tersebut :\")\n",
    "    print(\"Hasil dari Keliling Persegi Panjang adalah : \", keliling)\n",
    "    print(\"Hasil dari Luas Persegi Panjang adalah     : \", luas)\n",
    "\n",
    "    \n",
    "hitung(panjang,lebar)"
   ]
  },
  {
   "cell_type": "code",
   "execution_count": 5,
   "id": "0f91e950",
   "metadata": {},
   "outputs": [
    {
     "name": "stdout",
     "output_type": "stream",
     "text": [
      "Nama   :Arya Putra Bayu Nanda\n",
      "Alamat :Jl. Adisucipto GG. H. Saleh III\n",
      "NIM    :202102341\n",
      "\n",
      "\n",
      "Berikut adalah data diri yang telah di input \n",
      "Nama   :  Arya Putra Bayu Nanda\n",
      "Alamat :  Jl. Adisucipto GG. H. Saleh III\n",
      "NIM    :  202102341\n"
     ]
    }
   ],
   "source": [
    "class biodata():\n",
    "    def Biodata(self, nama, alamat, nim):\n",
    "        \n",
    "        print(\"Inputkan Biodata Anda\")\n",
    "        \n",
    "    def input(self):\n",
    "        self.nama = input(\"Nama   :\")\n",
    "        self.alamat = input(\"Alamat :\")\n",
    "        self.nim = input(\"NIM    :\")\n",
    "        \n",
    "class datadiri(biodata):\n",
    "    def cetak(self):\n",
    "        print (\"\\n\\nBerikut adalah data diri yang telah di input \")\n",
    "        print (\"Nama   : \", self.nama)\n",
    "        print (\"Alamat : \", self.alamat)\n",
    "        print (\"NIM    : \", self.nim)\n",
    "        \n",
    "data = datadiri()\n",
    "data.input()\n",
    "data.cetak()"
   ]
  },
  {
   "cell_type": "code",
   "execution_count": 7,
   "id": "38ada5c9",
   "metadata": {},
   "outputs": [
    {
     "name": "stdout",
     "output_type": "stream",
     "text": [
      "1. Tambah\n",
      "2. Kurang\n",
      "3. Kali\n",
      "4. Bagi\n",
      "5. Exit\n",
      "Pilih operasi :3\n",
      "\n",
      "Masukkan Angka 1st :10\n",
      "\n",
      "Masukkan Angka 2nd :100\n",
      "10 x 100 = 1000\n",
      "1. Tambah\n",
      "2. Kurang\n",
      "3. Kali\n",
      "4. Bagi\n",
      "5. Exit\n",
      "Pilih operasi :5\n"
     ]
    }
   ],
   "source": [
    "class Kalkulator:\n",
    "    def tambah(self, first, second):\n",
    "        return first+second\n",
    "    def kurang(self, first, second):\n",
    "        return first-second\n",
    "    def kali(self, first, second):\n",
    "        return first*second\n",
    "    def bagi(self, first, second):\n",
    "        return a/b\n",
    "    \n",
    "kalkulatorku = Kalkulator()\n",
    "\n",
    "while True:\n",
    "    print(\"1. Tambah\")\n",
    "    print(\"2. Kurang\")\n",
    "    print(\"3. Kali\")\n",
    "    print(\"4. Bagi\")\n",
    "    print(\"5. Exit\")\n",
    "    \n",
    "    ch = int(input(\"Pilih operasi :\"))\n",
    "    \n",
    "    if ch in (1, 2, 3, 4, 5):\n",
    "        if(ch==5):\n",
    "            break\n",
    "            \n",
    "        first = int(input(\"\\nMasukkan Angka 1st :\"))\n",
    "        second = int(input(\"\\nMasukkan Angka 2nd :\"))\n",
    "        \n",
    "        if(ch==1):\n",
    "            print(first, \"+\", second, \"=\", kalkulatorku.tambah(first,second))\n",
    "            \n",
    "        elif(ch==2):\n",
    "            print(first, \"-\", second, \"=\", kalkulatorku.kurang(first,second))\n",
    "            \n",
    "        elif(ch==3):\n",
    "            print(first, \"x\", second, \"=\", kalkulatorku.kali(first,second))\n",
    "            \n",
    "        elif(ch==4):\n",
    "            print(first, \":\", second, \"=\", kalkulatorku.bagi(first,second))\n",
    "            \n",
    "    else:\n",
    "        print(\"Invalid Input\")"
   ]
  },
  {
   "cell_type": "code",
   "execution_count": null,
   "id": "36037d60",
   "metadata": {},
   "outputs": [],
   "source": []
  }
 ],
 "metadata": {
  "kernelspec": {
   "display_name": "Python 3",
   "language": "python",
   "name": "python3"
  },
  "language_info": {
   "codemirror_mode": {
    "name": "ipython",
    "version": 3
   },
   "file_extension": ".py",
   "mimetype": "text/x-python",
   "name": "python",
   "nbconvert_exporter": "python",
   "pygments_lexer": "ipython3",
   "version": "3.8.8"
  }
 },
 "nbformat": 4,
 "nbformat_minor": 5
}
